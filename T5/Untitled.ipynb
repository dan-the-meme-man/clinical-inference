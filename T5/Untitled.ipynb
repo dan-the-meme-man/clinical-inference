{
 "cells": [
  {
   "cell_type": "code",
   "execution_count": 13,
   "id": "79a8af79-0592-4eaf-9526-4ac5b4d68680",
   "metadata": {
    "tags": []
   },
   "outputs": [],
   "source": [
    "import json\n",
    "import statistics\n",
    "import seaborn as sns\n",
    "import matplotlib.pyplot as plt\n"
   ]
  },
  {
   "cell_type": "code",
   "execution_count": 2,
   "id": "1be5836b-9d21-4d0e-b8b8-38c30d6dfb1d",
   "metadata": {
    "tags": []
   },
   "outputs": [],
   "source": [
    "def count_words(data):\n",
    "    lens = set ()\n",
    "    for i in data:\n",
    "        val = 0\n",
    "        for j in i['primary_text']:\n",
    "            words = j.split()\n",
    "            val += len(words)\n",
    "        if i['secondary_text'] is not None:\n",
    "            for j in i['secondary_text']:\n",
    "                words = j.split()\n",
    "                val += len(words)\n",
    "        for j in i['statement']:\n",
    "            words = j.split()\n",
    "            val += len(words)\n",
    "        lens.add(val)\n",
    "    return lens"
   ]
  },
  {
   "cell_type": "code",
   "execution_count": 16,
   "id": "1a65c587-75aa-4b2f-a054-960a2eddefc5",
   "metadata": {
    "tags": []
   },
   "outputs": [],
   "source": [
    "def get_min_max(train, dev):\n",
    "    train_set = count_words(train)\n",
    "    #print(train_set)\n",
    "    dev_set = count_words(dev)\n",
    "    #print(dev_set)\n",
    "    total = train_set.union(dev_set)\n",
    "    # print(f'min = {min(total)}')\n",
    "    # print(f'max = {max(total)}')\n",
    "    # print(f'mean = {statistics.mean(total)}')\n",
    "    return total"
   ]
  },
  {
   "cell_type": "code",
   "execution_count": 19,
   "id": "4194be91-ea11-451a-9224-f91f54eabb00",
   "metadata": {
    "tags": []
   },
   "outputs": [
    {
     "data": {
      "image/png": "[encoded data removed]",
      "text/plain": [
       "<Figure size 640x480 with 1 Axes>"
      ]
     },
     "metadata": {},
     "output_type": "display_data"
    }
   ],
   "source": [
    "if __name__ == \"__main__\":\n",
    "    train = './Data/train.json'\n",
    "    dev = './Data/dev.json'\n",
    "    lengths = set()\n",
    "    with open(train) as fh:\n",
    "        t = json.load(fh)\n",
    "        #print(t[0])\n",
    "        with open(dev) as fh2:\n",
    "            d = json.load(fh2)\n",
    "            lengths = get_min_max(t,d)\n",
    "    lengths = list(lengths)\n",
    "    sns.histplot(data=lengths)\n",
    "    plt.xlabel('Sequence length (words)')\n",
    "    plt.ylabel('Frequency')\n",
    "    plt.savefig('length_dist.jpg')"
   ]
  },
  {
   "cell_type": "code",
   "execution_count": null,
   "id": "b83b9888-7654-44bb-b5df-062fc12d9b55",
   "metadata": {},
   "outputs": [],
   "source": []
  }
 ],
 "metadata": {
  "kernelspec": {
   "display_name": "Python 3 (ipykernel)",
   "language": "python",
   "name": "python3"
  },
  "language_info": {
   "codemirror_mode": {
    "name": "ipython",
    "version": 3
   },
   "file_extension": ".py",
   "mimetype": "text/x-python",
   "name": "python",
   "nbconvert_exporter": "python",
   "pygments_lexer": "ipython3",
   "version": "3.11.4"
  }
 },
 "nbformat": 4,
 "nbformat_minor": 5
}
