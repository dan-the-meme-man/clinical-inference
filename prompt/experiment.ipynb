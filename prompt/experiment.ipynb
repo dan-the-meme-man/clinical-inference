{
 "cells": [
  {
   "cell_type": "code",
   "execution_count": 22,
   "id": "initial_id",
   "metadata": {
    "collapsed": true,
    "ExecuteTime": {
     "end_time": "2023-11-12T21:39:21.867288Z",
     "start_time": "2023-11-12T21:39:21.814568Z"
    }
   },
   "outputs": [],
   "source": [
    "import json\n",
    "import os\n",
    "train = 'training_data/dev.json'"
   ]
  },
  {
   "cell_type": "code",
   "execution_count": 23,
   "outputs": [],
   "source": [
    "with open(train, 'r') as train_json:\n",
    "    train_data = json.load(train_json)"
   ],
   "metadata": {
    "collapsed": false,
    "ExecuteTime": {
     "end_time": "2023-11-12T21:39:24.034850Z",
     "start_time": "2023-11-12T21:39:24.019130Z"
    }
   },
   "id": "957931a2afbd3501"
  },
  {
   "cell_type": "code",
   "execution_count": 24,
   "outputs": [],
   "source": [
    "train_keys = train_data.keys()"
   ],
   "metadata": {
    "collapsed": false,
    "ExecuteTime": {
     "end_time": "2023-11-12T21:39:24.884811Z",
     "start_time": "2023-11-12T21:39:24.872611Z"
    }
   },
   "id": "9bac528f006f693c"
  },
  {
   "cell_type": "code",
   "execution_count": 25,
   "outputs": [],
   "source": [
    "def get_input_target_pair(split_data):\n",
    "    data_pair = []\n",
    "    data_keys = list(split_data.keys())\n",
    "    for i in range(len(data_keys)):\n",
    "        data_point ={}\n",
    "        section_id = split_data[data_keys[i]]['Section_id']\n",
    "        statement = split_data[data_keys[i]]['Statement']\n",
    "        label = split_data[data_keys[i]]['Label']\n",
    "        primary_ctr_path = os.path.join(\"training_data/CT json\", split_data[data_keys[i]][\"Primary_id\"]+\".json\")\n",
    "        with open(primary_ctr_path) as json_file:\n",
    "            primary_text = json.load(json_file)[section_id]\n",
    "            data_point['primary_text'] =primary_text\n",
    "        if split_data[data_keys[i]]['Type']=='Comparison':\n",
    "            secondary_ctr_path = os.path.join(\"training_data/CT json\", split_data[data_keys[i]][\"Secondary_id\"]+\".json\")\n",
    "            with open(secondary_ctr_path) as secondary_file:\n",
    "                secondary_text = json.load(secondary_file)[section_id]\n",
    "                data_point['secondary_text'] = secondary_text   \n",
    "        else:\n",
    "            data_point['secondary_text']=None\n",
    "        data_point['statement'] = statement\n",
    "        data_point['label'] = label\n",
    "        \n",
    "        data_pair.append(data_point)\n",
    "    \n",
    "    return data_pair"
   ],
   "metadata": {
    "collapsed": false,
    "ExecuteTime": {
     "end_time": "2023-11-12T21:39:25.735796Z",
     "start_time": "2023-11-12T21:39:25.729263Z"
    }
   },
   "id": "fc61e7dd9db2ecde"
  },
  {
   "cell_type": "code",
   "execution_count": 26,
   "outputs": [],
   "source": [
    "train_data_pair = get_input_target_pair(train_data)"
   ],
   "metadata": {
    "collapsed": false,
    "ExecuteTime": {
     "end_time": "2023-11-12T21:39:26.881070Z",
     "start_time": "2023-11-12T21:39:26.644659Z"
    }
   },
   "id": "cea8ffdccc29727a"
  },
  {
   "cell_type": "code",
   "execution_count": 27,
   "outputs": [],
   "source": [
    "with open('training_data/dev_data.json', 'w') as train:\n",
    "    json.dump(train_data_pair, train)"
   ],
   "metadata": {
    "collapsed": false,
    "ExecuteTime": {
     "end_time": "2023-11-12T21:39:32.341376Z",
     "start_time": "2023-11-12T21:39:32.323933Z"
    }
   },
   "id": "d67b01cd426666b8"
  }
 ],
 "metadata": {
  "kernelspec": {
   "display_name": "Python 3",
   "language": "python",
   "name": "python3"
  },
  "language_info": {
   "codemirror_mode": {
    "name": "ipython",
    "version": 2
   },
   "file_extension": ".py",
   "mimetype": "text/x-python",
   "name": "python",
   "nbconvert_exporter": "python",
   "pygments_lexer": "ipython2",
   "version": "2.7.6"
  }
 },
 "nbformat": 4,
 "nbformat_minor": 5
}
