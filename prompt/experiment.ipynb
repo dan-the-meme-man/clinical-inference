{
 "cells": [
  {
   "cell_type": "code",
   "execution_count": 61,
   "id": "initial_id",
   "metadata": {
    "collapsed": true,
    "ExecuteTime": {
     "end_time": "2023-11-13T02:37:11.532231Z",
     "start_time": "2023-11-13T02:37:11.527185Z"
    }
   },
   "outputs": [],
   "source": [
    "import json\n",
    "import os\n",
    "train = 'training_data/dev.json'"
   ]
  },
  {
   "cell_type": "code",
   "execution_count": 62,
   "outputs": [],
   "source": [
    "with open(train, 'r') as train_json:\n",
    "    train_data = json.load(train_json)"
   ],
   "metadata": {
    "collapsed": false,
    "ExecuteTime": {
     "end_time": "2023-11-13T02:37:12.710095Z",
     "start_time": "2023-11-13T02:37:12.677380Z"
    }
   },
   "id": "957931a2afbd3501"
  },
  {
   "cell_type": "code",
   "execution_count": 63,
   "outputs": [],
   "source": [
    "train_keys = train_data.keys()"
   ],
   "metadata": {
    "collapsed": false,
    "ExecuteTime": {
     "end_time": "2023-11-13T02:37:13.129870Z",
     "start_time": "2023-11-13T02:37:13.110385Z"
    }
   },
   "id": "9bac528f006f693c"
  },
  {
   "cell_type": "code",
   "execution_count": 64,
   "outputs": [],
   "source": [
    "def get_input_target_pair(split_data):\n",
    "    data_keys = list(split_data.keys())\n",
    "    data_pair = []\n",
    "    for i in range(len(data_keys)):\n",
    "        data_point ={}\n",
    "        section_id = split_data[data_keys[i]]['Section_id']\n",
    "        statement = split_data[data_keys[i]]['Statement']\n",
    "        label = split_data[data_keys[i]]['Label']\n",
    "        primary_ctr_path = os.path.join(\"training_data/CT json\", split_data[data_keys[i]][\"Primary_id\"]+\".json\")\n",
    "        with open(primary_ctr_path) as json_file:\n",
    "            primary_text = json.load(json_file)[section_id]\n",
    "            data_point['primary_text'] =primary_text\n",
    "        if split_data[data_keys[i]]['Type']=='Comparison':\n",
    "            secondary_ctr_path = os.path.join(\"training_data/CT json\", split_data[data_keys[i]][\"Secondary_id\"]+\".json\")\n",
    "            with open(secondary_ctr_path) as secondary_file:\n",
    "                secondary_text = json.load(secondary_file)[section_id]\n",
    "                data_point['secondary_text'] = secondary_text   \n",
    "        else:\n",
    "            data_point['secondary_text']=None\n",
    "        data_point['statement'] = statement\n",
    "        data_point['label'] = label\n",
    "        \n",
    "        data_pair.append(data_point)\n",
    "    \n",
    "    return data_pair"
   ],
   "metadata": {
    "collapsed": false,
    "ExecuteTime": {
     "end_time": "2023-11-13T02:37:13.534316Z",
     "start_time": "2023-11-13T02:37:13.514593Z"
    }
   },
   "id": "fc61e7dd9db2ecde"
  },
  {
   "cell_type": "code",
   "execution_count": 65,
   "outputs": [
    {
     "ename": "TypeError",
     "evalue": "'list' object is not callable",
     "output_type": "error",
     "traceback": [
      "\u001B[0;31m---------------------------------------------------------------------------\u001B[0m",
      "\u001B[0;31mTypeError\u001B[0m                                 Traceback (most recent call last)",
      "Cell \u001B[0;32mIn[65], line 1\u001B[0m\n\u001B[0;32m----> 1\u001B[0m train_data_pair \u001B[38;5;241m=\u001B[39m \u001B[43mget_input_target_pair\u001B[49m\u001B[43m(\u001B[49m\u001B[43mtrain_data\u001B[49m\u001B[43m)\u001B[49m\n",
      "Cell \u001B[0;32mIn[64], line 2\u001B[0m, in \u001B[0;36mget_input_target_pair\u001B[0;34m(split_data)\u001B[0m\n\u001B[1;32m      1\u001B[0m \u001B[38;5;28;01mdef\u001B[39;00m \u001B[38;5;21mget_input_target_pair\u001B[39m(split_data):\n\u001B[0;32m----> 2\u001B[0m     data_keys \u001B[38;5;241m=\u001B[39m \u001B[38;5;28;43mlist\u001B[39;49m\u001B[43m(\u001B[49m\u001B[43msplit_data\u001B[49m\u001B[38;5;241;43m.\u001B[39;49m\u001B[43mkeys\u001B[49m\u001B[43m(\u001B[49m\u001B[43m)\u001B[49m\u001B[43m)\u001B[49m\n\u001B[1;32m      3\u001B[0m     data_pair \u001B[38;5;241m=\u001B[39m []\n\u001B[1;32m      4\u001B[0m     \u001B[38;5;28;01mfor\u001B[39;00m i \u001B[38;5;129;01min\u001B[39;00m \u001B[38;5;28mrange\u001B[39m(\u001B[38;5;28mlen\u001B[39m(data_keys)):\n",
      "\u001B[0;31mTypeError\u001B[0m: 'list' object is not callable"
     ]
    }
   ],
   "source": [
    "train_data_pair = get_input_target_pair(train_data)"
   ],
   "metadata": {
    "collapsed": false,
    "ExecuteTime": {
     "end_time": "2023-11-13T02:37:14.299125Z",
     "start_time": "2023-11-13T02:37:14.203881Z"
    }
   },
   "id": "cea8ffdccc29727a"
  },
  {
   "cell_type": "code",
   "execution_count": 27,
   "outputs": [],
   "source": [
    "with open('training_data/dev_data.json', 'w') as train:\n",
    "    json.dump(train_data_pair, train)"
   ],
   "metadata": {
    "collapsed": false,
    "ExecuteTime": {
     "end_time": "2023-11-12T21:39:32.341376Z",
     "start_time": "2023-11-12T21:39:32.323933Z"
    }
   },
   "id": "d67b01cd426666b8"
  },
  {
   "cell_type": "code",
   "execution_count": 35,
   "outputs": [],
   "source": [
    "with open('training_data/train_data.json', 'r') as dev:\n",
    "    dev_data = json.load(dev)"
   ],
   "metadata": {
    "collapsed": false,
    "ExecuteTime": {
     "end_time": "2023-11-13T02:26:17.236514Z",
     "start_time": "2023-11-13T02:26:17.065492Z"
    }
   },
   "id": "5f2fa869f36fd048"
  },
  {
   "cell_type": "code",
   "execution_count": 37,
   "outputs": [
    {
     "data": {
      "text/plain": "dict_keys(['primary_text', 'secondary_text', 'statement', 'label'])"
     },
     "execution_count": 37,
     "metadata": {},
     "output_type": "execute_result"
    }
   ],
   "source": [
    "dev_data[0]"
   ],
   "metadata": {
    "collapsed": false,
    "ExecuteTime": {
     "end_time": "2023-11-13T02:26:29.360239Z",
     "start_time": "2023-11-13T02:26:29.350045Z"
    }
   },
   "id": "6cd1a6f6fd279fb1"
  },
  {
   "cell_type": "code",
   "execution_count": null,
   "outputs": [],
   "source": [],
   "metadata": {
    "collapsed": false
   },
   "id": "241e3bf475ea998c"
  }
 ],
 "metadata": {
  "kernelspec": {
   "display_name": "Python 3",
   "language": "python",
   "name": "python3"
  },
  "language_info": {
   "codemirror_mode": {
    "name": "ipython",
    "version": 2
   },
   "file_extension": ".py",
   "mimetype": "text/x-python",
   "name": "python",
   "nbconvert_exporter": "python",
   "pygments_lexer": "ipython2",
   "version": "2.7.6"
  }
 },
 "nbformat": 4,
 "nbformat_minor": 5
}
